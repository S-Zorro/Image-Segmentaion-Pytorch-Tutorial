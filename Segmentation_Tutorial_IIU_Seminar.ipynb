{
  "nbformat": 4,
  "nbformat_minor": 0,
  "metadata": {
    "colab": {
      "provenance": [],
      "gpuType": "T4",
      "include_colab_link": true
    },
    "kernelspec": {
      "name": "python3",
      "display_name": "Python 3"
    },
    "language_info": {
      "name": "python"
    },
    "accelerator": "GPU"
  },
  "cells": [
    {
      "cell_type": "markdown",
      "metadata": {
        "id": "view-in-github",
        "colab_type": "text"
      },
      "source": [
        "<a href=\"https://colab.research.google.com/github/S-Zorro/Image-Segmentaion-Pytorch-Tutorial/blob/main/Segmentation_Tutorial_IIU_Seminar.ipynb\" target=\"_parent\"><img src=\"https://colab.research.google.com/assets/colab-badge.svg\" alt=\"Open In Colab\"/></a>"
      ]
    },
    {
      "cell_type": "code",
      "source": [
        "from google.colab import drive\n",
        "drive.mount('/content/drive')"
      ],
      "metadata": {
        "colab": {
          "base_uri": "https://localhost:8080/"
        },
        "id": "-QZfor7cNfp0",
        "outputId": "394b7784-2da0-431c-a675-c777683c26ca"
      },
      "execution_count": null,
      "outputs": [
        {
          "output_type": "stream",
          "name": "stdout",
          "text": [
            "Mounted at /content/drive\n"
          ]
        }
      ]
    },
    {
      "cell_type": "markdown",
      "source": [
        "## Introduction to Segmentation\n",
        "\n",
        "Image segmentation is a computer vision task that involves dividing an image into distinct and meaningful regions or segments. The goal is to assign a label or category to each pixel in the image, grouping together pixels that share similar visual characteristics. This process helps computers understand the different objects or parts within an image, enabling more advanced analysis and recognition tasks.\n",
        "\n",
        "In simpler terms, image segmentation is like creating a digital puzzle where each piece corresponds to a specific object or area in the picture, making it easier for machines to recognize and understand the content of the image."
      ],
      "metadata": {
        "id": "aAOOo5ZXVwgX"
      }
    },
    {
      "cell_type": "markdown",
      "source": [
        "1.   Intro to segmentation(basics, theory, and history)\n",
        "2.   Types of image segmentation(semantic, instance, when to use which one)\n",
        "3.   Segmentation techniques(approach, CV, Deep learning)\n",
        "4.   DL for image segmentation(semantic segmentation using U-Net, instance using deeplabV3)\n",
        "5.   Loss function/Eval metrics for segmentation\n",
        "6.   Latest trends (SAM)\n",
        "7.   Challenges\n",
        "8.   Case studies(VisionRD, examples, Roboflow)\n",
        "\n",
        "![U-Net Architecture](https://lmb.informatik.uni-freiburg.de/people/ronneber/u-net/u-net-architecture.png)\n"
      ],
      "metadata": {
        "id": "r8Gf7Qf5Ya_v"
      }
    },
    {
      "cell_type": "markdown",
      "source": [
        "##Types of Image Segmentaion\n",
        "Image segmentation is generally divided into two categories i.e semantic and instance segmentation. A general overview of these approaches is as follow:\n",
        "\n",
        "\n",
        "\n",
        "![Comparison between Semantic and Instance Segmentation](https://www.folio3.ai/blog/wp-content/uploads/2023/05/SS.png)"
      ],
      "metadata": {
        "id": "sEB8d2NwVMEY"
      }
    },
    {
      "cell_type": "markdown",
      "source": [
        "### a. Semantic Segmentation\n",
        "\n",
        "Semantic segmentation involves classifying each pixel in an image into a specific class or category. The goal is to partition the image into regions that correspond to different objects or structures, with each pixel labeled according to the object or scene category it belongs to. In semantic segmentation, pixels belonging to the same class share a common label, making it a pixel-level classification task.\n",
        "\n",
        "For example, in an image containing a person, a car, and a tree, semantic segmentation would assign each pixel to one of these categories, effectively creating a labeled map of the scene.\n",
        "\n",
        "### b. Instance Segmentation\n",
        "\n",
        "Instance segmentation, on the other hand, takes semantic segmentation a step further by not only classifying each pixel but also distinguishing between individual instances of objects within the same class. This means that even if multiple objects of the same class are present in the image, instance segmentation provides a unique label for each distinct object.\n",
        "\n",
        "In instance segmentation, the algorithm not only identifies the object classes but also segments each object separately, assigning different labels to different instances of the same class. This level of granularity is valuable in applications where it's essential to differentiate and track individual objects in a scene.\n",
        "\n",
        "In short, semantic segmentation focuses on classifying pixels into general categories, instance segmentation goes beyond and provides a more detailed understanding by distinguishing between individual instances of objects within those categories.\n",
        "\n"
      ],
      "metadata": {
        "id": "icTiCsz9WsDl"
      }
    },
    {
      "cell_type": "markdown",
      "source": [
        "## Evolution of Image Segmentation Prior to Deep Learning\n",
        "\n",
        "Before the advent of deep learning, image segmentation posed a formidable challenge, primarily attributed to the difficulty in accurately delineating object boundaries and features within an image. Early segmentation approaches were often bespoke, tailored to specific applications, and vulnerable to noise.\n",
        "\n",
        "\n",
        "\n",
        "\n"
      ],
      "metadata": {
        "id": "etOAV6XVVfB3"
      }
    },
    {
      "cell_type": "markdown",
      "source": [
        "### Grabcut Algorithm\n",
        "\n"
      ],
      "metadata": {
        "id": "4hj5hu94o32R"
      }
    },
    {
      "cell_type": "markdown",
      "source": [
        "![](https://docs.opencv.org/3.4/grabcut_scheme.jpg)\n",
        "\n",
        "An example of moderate success in computer vision techniques was achieved in background removal, with algorithms like GrabCut. The following outlines the operational steps of the GrabCut algorithm:\n",
        "\n",
        "\n",
        "1. **User-Defined Rectangle Input:**\n",
        "   - Users specify a rectangle, designating everything outside this boundary as the background, while the interior remains uncertain.\n",
        "\n",
        "2. **Foreground and Background Labeling:**\n",
        "   - The algorithm proceeds to hard-label pixels as either foreground or background based on the user-defined rectangle.\n",
        "\n",
        "3. **Gaussian Mixture Model (GMM):**\n",
        "   - Utilizing a Gaussian Mixture Model, the algorithm builds a statistical model for both foreground and background.\n",
        "\n",
        "4. **Probabilistic Labeling:**\n",
        "   - Unknown pixels within the rectangle are probabilistically labeled as either probable foreground or probable background, determined by color statistics and relation to hard-labeled pixels.\n",
        "\n",
        "5. **Graph Construction:**\n",
        "   - A graph is constructed, with pixels as nodes, supplemented by Source and Sink nodes. Foreground pixels connect to the Source node, and background pixels connect to the Sink node.\n",
        "\n",
        "6. **Weight Assignment:**\n",
        "   - Edge weights between nodes are assigned based on the probability of a pixel being foreground or background, as well as pixel similarity. Larger color differences result in lower edge weights.\n",
        "\n",
        "7. **Min-Cut Algorithm:**\n",
        "   - Employing a min-cut algorithm, the graph is partitioned into two segments, separating the Source and Sink nodes with minimal cost. The cost is the sum of weights of the cut edges.\n",
        "\n",
        "8. **Iterative Refinement:**\n",
        "   - The process iterates until convergence, refining the classification of pixels into foreground or background based on the evolving model.\n",
        "\n",
        "\n",
        "\n",
        "\n",
        "Paper - http://dl.acm.org/citation.cfm?id=1015720\n",
        "\n",
        "Learn more - https://docs.opencv.org/3.4/d8/d83/tutorial_py_grabcut.html"
      ],
      "metadata": {
        "id": "tBQYMlQ0pJRL"
      }
    },
    {
      "cell_type": "markdown",
      "source": [
        "### Grabcut Algorithm Implementation"
      ],
      "metadata": {
        "id": "Bz4D-FW2o_5U"
      }
    },
    {
      "cell_type": "code",
      "source": [
        "# Import Libaries, Create our Imshow Function and Download our Images\n",
        "import cv2\n",
        "import dlib\n",
        "import sys\n",
        "import numpy as np\n",
        "from matplotlib import pyplot as plt\n",
        "\n",
        "# Define our imshow function\n",
        "def imshow(title = \"Image\", image = None, size = 10):\n",
        "    w, h = image.shape[0], image.shape[1]\n",
        "    aspect_ratio = w/h\n",
        "    plt.figure(figsize=(size * aspect_ratio,size))\n",
        "    plt.imshow(cv2.cvtColor(image, cv2.COLOR_BGR2RGB))\n",
        "    plt.title(title)\n",
        "    plt.show()"
      ],
      "metadata": {
        "id": "iXiWUpmCpDl6"
      },
      "execution_count": null,
      "outputs": []
    },
    {
      "cell_type": "code",
      "source": [
        "# !wget https://github.com/rajeevratan84/ModernComputerVision/raw/main/woman.jpeg"
      ],
      "metadata": {
        "id": "59jwOnrpqlWI",
        "colab": {
          "base_uri": "https://localhost:8080/"
        },
        "outputId": "099af118-8a51-48a3-cb19-9e4e2500a5e7"
      },
      "execution_count": null,
      "outputs": [
        {
          "output_type": "stream",
          "name": "stdout",
          "text": [
            "--2024-01-31 13:21:36--  https://github.com/rajeevratan84/ModernComputerVision/raw/main/woman.jpeg\n",
            "Resolving github.com (github.com)... 140.82.113.3\n",
            "Connecting to github.com (github.com)|140.82.113.3|:443... connected.\n",
            "HTTP request sent, awaiting response... 302 Found\n",
            "Location: https://raw.githubusercontent.com/rajeevratan84/ModernComputerVision/main/woman.jpeg [following]\n",
            "--2024-01-31 13:21:36--  https://raw.githubusercontent.com/rajeevratan84/ModernComputerVision/main/woman.jpeg\n",
            "Resolving raw.githubusercontent.com (raw.githubusercontent.com)... 185.199.108.133, 185.199.109.133, 185.199.111.133, ...\n",
            "Connecting to raw.githubusercontent.com (raw.githubusercontent.com)|185.199.108.133|:443... connected.\n",
            "HTTP request sent, awaiting response... 200 OK\n",
            "Length: 17368 (17K) [image/jpeg]\n",
            "Saving to: ‘woman.jpeg’\n",
            "\n",
            "woman.jpeg          100%[===================>]  16.96K  --.-KB/s    in 0s      \n",
            "\n",
            "2024-01-31 13:21:37 (35.4 MB/s) - ‘woman.jpeg’ saved [17368/17368]\n",
            "\n"
          ]
        }
      ]
    },
    {
      "cell_type": "code",
      "source": [
        "# Load our image\n",
        "image = cv2.imread('woman.jpeg')\n",
        "copy = image.copy()\n",
        "# Create a mask (of zeros uint8 datatype) that is the same size (width, height) as our original image\n",
        "mask = np.zeros(image.shape[:2], np.uint8)\n",
        "\n",
        "bgdModel = np.zeros((1,65), np.float64)\n",
        "fgdModel = np.zeros((1,65), np.float64)\n",
        "\n",
        "# Needs to be set Manually or selected with cv2.selectROI()\n",
        "x1, y1, x2, y2 = 190, 70, 350, 310\n",
        "start = (x1, y1)\n",
        "end = (x2, y2)\n",
        "\n",
        "# Format is X,Y,W,H\n",
        "rect = (x1,y1,x2-x1,y2-y1)\n",
        "\n",
        "# Show Rectangle\n",
        "cv2.rectangle(copy, start, end, (0,0,255), 3)\n",
        "imshow(\"Input Image\", copy)"
      ],
      "metadata": {
        "id": "j3gmNi8VqopB"
      },
      "execution_count": null,
      "outputs": []
    },
    {
      "cell_type": "code",
      "source": [
        "# Let the algorithm run for 5 iterations. Mode should be cv.GC_INIT_WITH_RECT since we are using rectangle.\n",
        "# Grabcut modifies the mask image.\n",
        "# In the new mask image, pixels will be marked with four flags denoting background/foreground as specified above.\n",
        "# So we modify the mask such that all 0-pixels and 2-pixels are put to 0 (i.e. background) & all 1-pixels and 3-pixels are put to 1(i.e. foreground pixels).\n",
        "# Now our final mask is ready. Just multiply it with input image to get the segmented image.\n",
        "cv2.grabCut(image, mask, rect, bgdModel, fgdModel, 5, cv2.GC_INIT_WITH_RECT)\n",
        "\n",
        "mask2 = np.where((mask==2)|(mask==0),0,1).astype('uint8')\n",
        "image = image * mask2[:,:,np.newaxis]\n",
        "\n",
        "imshow(\"Mask\", mask * 80)\n",
        "imshow(\"Mask2\", mask2 * 255)\n",
        "imshow(\"Image\", image)"
      ],
      "metadata": {
        "id": "64e_QuafsKss",
        "colab": {
          "base_uri": "https://localhost:8080/",
          "height": 1000
        },
        "outputId": "d8c830d9-5f9f-4009-9554-5709890dac2e"
      },
      "execution_count": null,
      "outputs": [
        {
          "output_type": "display_data",
          "data": {
            "text/plain": [
              "<Figure size 666.667x1000 with 1 Axes>"
            ],
            "image/png": "[encoded data removed]"
          },
          "metadata": {}
        },
        {
          "output_type": "display_data",
          "data": {
            "text/plain": [
              "<Figure size 666.667x1000 with 1 Axes>"
            ],
            "image/png": "[encoded data removed]"
          },
          "metadata": {}
        },
        {
          "output_type": "display_data",
          "data": {
            "text/plain": [
              "<Figure size 666.667x1000 with 1 Axes>"
            ],
            "image/png": "[encoded data removed]"
          },
          "metadata": {}
        }
      ]
    },
    {
      "cell_type": "markdown",
      "source": [
        "## Deep Learning for Image segmentation"
      ],
      "metadata": {
        "id": "xW4S_Ql2agUt"
      }
    },
    {
      "cell_type": "markdown",
      "source": [
        "### Fetching the dataset for semantic Segmentation"
      ],
      "metadata": {
        "id": "sjXei4H-tC9m"
      }
    },
    {
      "cell_type": "code",
      "source": [
        "# from google.colab import files\n",
        "# # Upload kaggle.json\n",
        "# files.upload()"
      ],
      "metadata": {
        "id": "xGL3qsflj7WG"
      },
      "execution_count": null,
      "outputs": []
    },
    {
      "cell_type": "code",
      "source": [
        "# !mkdir -p ~/.kaggle\n",
        "# !cp kaggle.json ~/.kaggle/\n",
        "# !chmod 600 ~/.kaggle/kaggle.json"
      ],
      "metadata": {
        "id": "PkCGiKC_lCSs"
      },
      "execution_count": null,
      "outputs": []
    },
    {
      "cell_type": "code",
      "source": [
        "# !kaggle datasets download -d ipythonx/carvana-image-masking-png"
      ],
      "metadata": {
        "id": "Vm-xPjhKlOmH"
      },
      "execution_count": null,
      "outputs": []
    },
    {
      "cell_type": "markdown",
      "source": [
        "###Semantic Segmentation with U-Net\n",
        "\n",
        "\n",
        "---\n",
        "This section will go over the code for semantic segmentation. We'll look at how to create the dataset class for these tasks, the training loop, and the components that would make it differnet from classification\n",
        "\n"
      ],
      "metadata": {
        "id": "5NBwNHcJagyE"
      }
    },
    {
      "cell_type": "code",
      "source": [
        "###--------Making the U-Net architecture--------###\n",
        "\n",
        "import torch\n",
        "import torch.nn as nn\n",
        "import torchvision.transforms.functional as TF\n",
        "\n",
        "class DoubleConv(nn.Module):\n",
        "    \"\"\"\n",
        "    DoubleConv defines a module with two consecutive convolutional layers, each followed by\n",
        "    batch normalization and ReLU activation.\n",
        "\n",
        "    Args:\n",
        "        in_channels (int): Number of input channels.\n",
        "        out_channels (int): Number of output channels.\n",
        "    \"\"\"\n",
        "\n",
        "    def __init__(self, in_channels, out_channels):\n",
        "        super(DoubleConv, self).__init__()\n",
        "        self.conv = nn.Sequential(\n",
        "            nn.Conv2d(in_channels, out_channels, 3, 1, 1, bias=False),\n",
        "            nn.BatchNorm2d(out_channels),\n",
        "            nn.ReLU(inplace=True),\n",
        "            nn.Conv2d(out_channels, out_channels, 3, 1, 1, bias=False),\n",
        "            nn.BatchNorm2d(out_channels),\n",
        "            nn.ReLU(inplace=True),\n",
        "        )\n",
        "\n",
        "    def forward(self, x):\n",
        "        \"\"\"\n",
        "        Forward pass through the DoubleConv module.\n",
        "\n",
        "        Args:\n",
        "            x (torch.Tensor): Input tensor.\n",
        "\n",
        "        Returns:\n",
        "            torch.Tensor: Output tensor after the double convolution.\n",
        "        \"\"\"\n",
        "        return self.conv(x)\n",
        "\n",
        "class UNET(nn.Module):\n",
        "    \"\"\"\n",
        "    UNET defines a U-shaped convolutional neural network architecture for image segmentation.\n",
        "\n",
        "    Args:\n",
        "        in_channels (int): Number of input channels.\n",
        "        out_channels (int): Number of output channels.\n",
        "        features (list): List of feature channels for each level of the UNET.\n",
        "\n",
        "    Attributes:\n",
        "        ups (nn.ModuleList): List of upsampling blocks.\n",
        "        downs (nn.ModuleList): List of downsampling blocks.\n",
        "        pool (nn.MaxPool2d): Max pooling layer for downsampling.\n",
        "        bottleneck (DoubleConv): Bottleneck block in the middle of the UNET.\n",
        "        final_conv (nn.Conv2d): Final convolutional layer to produce the output.\n",
        "    \"\"\"\n",
        "\n",
        "    def __init__(\n",
        "            self, in_channels=3, out_channels=1, features=[64, 128, 256, 512],\n",
        "    ):\n",
        "        super(UNET, self).__init__()\n",
        "        self.ups = nn.ModuleList()\n",
        "        self.downs = nn.ModuleList()\n",
        "        self.pool = nn.MaxPool2d(kernel_size=2, stride=2)\n",
        "\n",
        "        # Down part of UNET\n",
        "        for feature in features:\n",
        "            self.downs.append(DoubleConv(in_channels, feature))\n",
        "            in_channels = feature\n",
        "\n",
        "        # Up part of UNET\n",
        "        for feature in reversed(features):\n",
        "            self.ups.append(\n",
        "                nn.ConvTranspose2d(\n",
        "                    feature*2, feature, kernel_size=2, stride=2,\n",
        "                )\n",
        "            )\n",
        "            self.ups.append(DoubleConv(feature*2, feature))\n",
        "\n",
        "        self.bottleneck = DoubleConv(features[-1], features[-1]*2)\n",
        "        self.final_conv = nn.Conv2d(features[0], out_channels, kernel_size=1)\n",
        "\n",
        "    def forward(self, x):\n",
        "        \"\"\"\n",
        "        Forward pass through the UNET.\n",
        "\n",
        "        Args:\n",
        "            x (torch.Tensor): Input tensor.\n",
        "\n",
        "        Returns:\n",
        "            torch.Tensor: Output tensor after passing through the UNET.\n",
        "        \"\"\"\n",
        "        skip_connections = []\n",
        "\n",
        "        # Downward pass through the downsampling blocks\n",
        "        for down in self.downs:\n",
        "            x = down(x)\n",
        "            skip_connections.append(x)\n",
        "            x = self.pool(x)\n",
        "\n",
        "        x = self.bottleneck(x)\n",
        "        skip_connections = skip_connections[::-1]\n",
        "\n",
        "        # Upward pass through the upsampling blocks\n",
        "        for idx in range(0, len(self.ups), 2):\n",
        "            x = self.ups[idx](x)\n",
        "            skip_connection = skip_connections[idx//2]\n",
        "\n",
        "            # Resize the feature map if its size doesn't match the skip connection's size\n",
        "            if x.shape != skip_connection.shape:\n",
        "                x = TF.resize(x, size=skip_connection.shape[2:])\n",
        "\n",
        "            # Concatenate the skip connection and the upsampled feature map\n",
        "            concat_skip = torch.cat((skip_connection, x), dim=1)\n",
        "            x = self.ups[idx+1](concat_skip)\n",
        "\n",
        "        return self.final_conv(x)\n",
        "\n",
        "def test():\n",
        "    \"\"\"\n",
        "    Function to test the UNET model with a sample input tensor.\n",
        "    \"\"\"\n",
        "    x = torch.randn((3, 1, 161, 161))\n",
        "    model = UNET(in_channels=1, out_channels=1)\n",
        "    preds = model(x)\n",
        "    assert preds.shape == x.shape\n"
      ],
      "metadata": {
        "id": "wHmTCw8dcHRZ"
      },
      "execution_count": null,
      "outputs": []
    },
    {
      "cell_type": "code",
      "source": [
        "###import os\n",
        "from PIL import Image\n",
        "from torch.utils.data import Dataset\n",
        "import numpy as np\n",
        "import os\n",
        "\n",
        "\n",
        "class CarvanaDataset(Dataset):\n",
        "    \"\"\"\n",
        "    Custom dataset class for the Carvana image segmentation dataset.\n",
        "\n",
        "    Args:\n",
        "        image_dir (str): Directory containing the input images.\n",
        "        mask_dir (str): Directory containing the corresponding masks.\n",
        "        transform (callable, optional): Optional transform to be applied to the image and mask.\n",
        "\n",
        "    Attributes:\n",
        "        image_dir (str): Directory containing the input images.\n",
        "        mask_dir (str): Directory containing the corresponding masks.\n",
        "        transform (callable, optional): Optional transform to be applied to the image and mask.\n",
        "        images (list): List of image filenames in the dataset.\n",
        "    \"\"\"\n",
        "\n",
        "    def __init__(self, image_dir, mask_dir, transform=None):\n",
        "        self.image_dir = image_dir\n",
        "        self.mask_dir = mask_dir\n",
        "        self.transform = transform\n",
        "        self.images = os.listdir(mask_dir)\n",
        "\n",
        "    def __len__(self):\n",
        "        \"\"\"\n",
        "        Get the number of samples in the dataset.\n",
        "\n",
        "        Returns:\n",
        "            int: Number of samples in the dataset.\n",
        "        \"\"\"\n",
        "        return len(self.images)\n",
        "\n",
        "    def __getitem__(self, index):\n",
        "        \"\"\"\n",
        "        Get a specific sample from the dataset.\n",
        "\n",
        "        Args:\n",
        "            index (int): Index of the sample.\n",
        "\n",
        "        Returns:\n",
        "            tuple: Tuple containing the image and its corresponding mask.\n",
        "        \"\"\"\n",
        "        # Get file paths\n",
        "        img_path = os.path.join(self.image_dir, self.images[index].replace(\".png\", \".jpg\"))\n",
        "        mask_path = os.path.join(self.mask_dir, self.images[index])\n",
        "\n",
        "        # Load image and mask as numpy arrays\n",
        "        image = np.array(Image.open(img_path).convert(\"RGB\"))\n",
        "        mask = np.array(Image.open(mask_path).convert(\"L\"), dtype=np.float32)\n",
        "        # Convert mask values to binary (0 or 1)\n",
        "        mask[mask == 255.0] = 1.0\n",
        "\n",
        "        # Apply transformations if specified\n",
        "        if self.transform is not None:\n",
        "            augmentations = self.transform(image=image, mask=mask)\n",
        "            image = augmentations[\"image\"]\n",
        "            mask = augmentations[\"mask\"]\n",
        "\n",
        "        return image, mask\n"
      ],
      "metadata": {
        "id": "jryfImOabRFs"
      },
      "execution_count": null,
      "outputs": []
    },
    {
      "cell_type": "code",
      "source": [
        "import torch\n",
        "import torchvision\n",
        "from torch.utils.data import DataLoader, random_split\n",
        "\n",
        "###---------utils---------###\n",
        "\n",
        "def save_checkpoint(state, filename=\"my_checkpoint.pth.tar\"):\n",
        "    \"\"\"\n",
        "    Save model checkpoint to a file.\n",
        "\n",
        "    Args:\n",
        "        state (dict): Dictionary containing model state, optimizer state, and other metadata.\n",
        "        filename (str): Name of the file to save the checkpoint.\n",
        "    \"\"\"\n",
        "    print(\"=> Saving checkpoint\")\n",
        "    torch.save(state, filename)\n",
        "\n",
        "def load_checkpoint(checkpoint, model):\n",
        "    \"\"\"\n",
        "    Load model weights from a checkpoint.\n",
        "\n",
        "    Args:\n",
        "        checkpoint (dict): Dictionary containing model state, optimizer state, and other metadata.\n",
        "        model (torch.nn.Module): Model to load the weights into.\n",
        "    \"\"\"\n",
        "    print(\"=> Loading checkpoint\")\n",
        "    model.load_state_dict(checkpoint[\"state_dict\"])\n",
        "\n",
        "def get_loaders(\n",
        "    train_dir,\n",
        "    train_maskdir,\n",
        "    # val_dir,\n",
        "    # val_maskdir,\n",
        "    batch_size,\n",
        "    # train_transform,\n",
        "    transforms,\n",
        "    num_workers=4,\n",
        "    pin_memory=True,\n",
        "):\n",
        "    \"\"\"\n",
        "    Create DataLoader instances for training and validation datasets.\n",
        "\n",
        "    Args:\n",
        "        train_dir (str): Directory containing training images.\n",
        "        train_maskdir (str): Directory containing training masks.\n",
        "        val_dir (str): Directory containing validation images.\n",
        "        val_maskdir (str): Directory containing validation masks.\n",
        "        batch_size (int): Batch size for DataLoader.\n",
        "        train_transform (callable): Transformations to be applied to the training data.\n",
        "        val_transform (callable): Transformations to be applied to the validation data.\n",
        "        num_workers (int): Number of worker processes for data loading.\n",
        "        pin_memory (bool): Whether to use pinned memory for DataLoader.\n",
        "\n",
        "    Returns:\n",
        "        DataLoader: DataLoader for training dataset.\n",
        "        DataLoader: DataLoader for validation dataset.\n",
        "    \"\"\"\n",
        "\n",
        "\n",
        "    dataset = CarvanaDataset(\n",
        "        image_dir=train_dir,\n",
        "        mask_dir=train_maskdir,\n",
        "        transform=transforms,\n",
        "    )\n",
        "\n",
        "    n_val = int(len(dataset) * 0.8)\n",
        "    n_train = len(dataset) - n_val\n",
        "\n",
        "    train_set, val_set = random_split(dataset, [n_train, n_val], generator=torch.Generator().manual_seed(0))\n",
        "    loader_args = dict(batch_size=batch_size, num_workers=os.cpu_count(), pin_memory=True)\n",
        "    train_loader = DataLoader(train_set, shuffle=True, **loader_args)\n",
        "    val_loader = DataLoader(val_set, shuffle=False, drop_last=True, **loader_args)\n",
        "\n",
        "    # train_loader = DataLoader(\n",
        "    #     train_ds,\n",
        "    #     batch_size=batch_size,\n",
        "    #     num_workers=num_workers,\n",
        "    #     pin_memory=pin_memory,\n",
        "    #     shuffle=True,\n",
        "    # )\n",
        "\n",
        "    # val_ds = CarvanaDataset(\n",
        "    #     image_dir=val_dir,\n",
        "    #     mask_dir=val_maskdir,\n",
        "    #     transform=val_transform,\n",
        "    # )\n",
        "\n",
        "    # val_loader = DataLoader(\n",
        "    #     val_ds,\n",
        "    #     batch_size=batch_size,\n",
        "    #     num_workers=num_workers,\n",
        "    #     pin_memory=pin_memory,\n",
        "    #     shuffle=False,\n",
        "    # )\n",
        "\n",
        "    return train_loader, val_loader\n",
        "\n",
        "def check_accuracy(loader, model, device=\"cuda\"):\n",
        "    \"\"\"\n",
        "    Check accuracy and dice score of the model on a given DataLoader.\n",
        "\n",
        "    Args:\n",
        "        loader (DataLoader): DataLoader containing the data for evaluation.\n",
        "        model (torch.nn.Module): Model to evaluate.\n",
        "        device (str): Device to use for evaluation.\n",
        "\n",
        "    Returns:\n",
        "        None\n",
        "    \"\"\"\n",
        "    num_correct = 0\n",
        "    num_pixels = 0\n",
        "    dice_score = 0\n",
        "    model.eval()\n",
        "\n",
        "    with torch.no_grad():\n",
        "        for x, y in loader:\n",
        "            x = x.to(device)\n",
        "            y = y.to(device).unsqueeze(1)\n",
        "            preds = torch.sigmoid(model(x))\n",
        "            preds = (preds > 0.5).float()\n",
        "            num_correct += (preds == y).sum()\n",
        "            num_pixels += torch.numel(preds)\n",
        "            dice_score += (2 * (preds * y).sum()) / (\n",
        "                (preds + y).sum() + 1e-8\n",
        "            )\n",
        "\n",
        "    print(\n",
        "        f\"Got {num_correct}/{num_pixels} with acc {num_correct/num_pixels*100:.2f}\"\n",
        "    )\n",
        "    print(f\"Dice score: {dice_score/len(loader)}\")\n",
        "    model.train()\n",
        "\n",
        "def save_predictions_as_imgs(\n",
        "    loader, model, folder=\"saved_images/\", device=\"cuda\"\n",
        "):\n",
        "    \"\"\"\n",
        "    Save model predictions and ground truth images to a folder.\n",
        "\n",
        "    Args:\n",
        "        loader (DataLoader): DataLoader containing the data for prediction.\n",
        "        model (torch.nn.Module): Model for making predictions.\n",
        "        folder (str): Directory to save the predicted images.\n",
        "        device (str): Device to use for prediction.\n",
        "\n",
        "    Returns:\n",
        "        None\n",
        "    \"\"\"\n",
        "    model.eval()\n",
        "    for idx, (x, y) in enumerate(loader):\n",
        "        x = x.to(device=device)\n",
        "        with torch.no_grad():\n",
        "            preds = torch.sigmoid(model(x))\n",
        "            preds = (preds > 0.5).float()\n",
        "        torchvision.utils.save_image(\n",
        "            preds, f\"{folder}pred_{idx}.png\"\n",
        "        )\n",
        "        torchvision.utils.save_image(y.unsqueeze(1), f\"{folder}/{idx}.png\")\n",
        "\n",
        "    model.train()\n"
      ],
      "metadata": {
        "id": "QPjEScayfdjv"
      },
      "execution_count": null,
      "outputs": []
    },
    {
      "cell_type": "code",
      "source": [
        "import torch\n",
        "import albumentations as A\n",
        "from albumentations.pytorch import ToTensorV2\n",
        "from tqdm import tqdm\n",
        "import torch.nn as nn\n",
        "import torch.optim as optim\n",
        "# from model import UNET\n",
        "# from utils import (\n",
        "#     load_checkpoint,\n",
        "#     save_checkpoint,\n",
        "#     get_loaders,\n",
        "#     check_accuracy,\n",
        "#     save_predictions_as_imgs,\n",
        "# )\n",
        "\n",
        "# Hyperparameters etc.\n",
        "LEARNING_RATE = 1e-4\n",
        "DEVICE = \"cuda\" if torch.cuda.is_available() else \"cpu\"\n",
        "BATCH_SIZE = 16\n",
        "NUM_EPOCHS = 3\n",
        "NUM_WORKERS = 1\n",
        "IMAGE_HEIGHT = 160  # 1280 originally\n",
        "IMAGE_WIDTH = 240  # 1918 originally\n",
        "PIN_MEMORY = True\n",
        "LOAD_MODEL = False\n",
        "TRAIN_IMG_DIR = \"/content/drive/MyDrive/carvana/train_images/\"\n",
        "TRAIN_MASK_DIR = \"/content/drive/MyDrive/carvana/train_masks/\"\n",
        "# VAL_IMG_DIR = \"data/val_images/\"\n",
        "# VAL_MASK_DIR = \"data/val_masks/\"\n",
        "\n",
        "def train_fn(loader, model, optimizer, loss_fn, scaler):\n",
        "    \"\"\"\n",
        "    Training function for a single epoch.\n",
        "\n",
        "    Args:\n",
        "        loader (DataLoader): DataLoader for the training dataset.\n",
        "        model (torch.nn.Module): Model to be trained.\n",
        "        optimizer (torch.optim.Optimizer): Optimizer for updating model parameters.\n",
        "        loss_fn (torch.nn.Module): Loss function for calculating the training loss.\n",
        "        scaler (torch.cuda.amp.GradScaler): Gradient scaler for mixed-precision training.\n",
        "\n",
        "    Returns:\n",
        "        None\n",
        "    \"\"\"\n",
        "    loop = tqdm(loader)\n",
        "\n",
        "    for batch_idx, (data, targets) in enumerate(loop):\n",
        "        data = data.to(device=DEVICE)\n",
        "        targets = targets.float().unsqueeze(1).to(device=DEVICE)\n",
        "\n",
        "        # forward\n",
        "        with torch.cuda.amp.autocast():\n",
        "            predictions = model(data)\n",
        "            loss = loss_fn(predictions, targets)\n",
        "\n",
        "        # backward\n",
        "        optimizer.zero_grad()\n",
        "        scaler.scale(loss).backward()\n",
        "        scaler.step(optimizer)\n",
        "        scaler.update()\n",
        "\n",
        "        # update tqdm loop\n",
        "        loop.set_postfix(loss=loss.item())\n",
        "\n",
        "def main():\n",
        "    \"\"\"\n",
        "    Main training script.\n",
        "\n",
        "    Returns:\n",
        "        None\n",
        "    \"\"\"\n",
        "    # train_transform = A.Compose(\n",
        "    #     [\n",
        "    #         A.Resize(height=IMAGE_HEIGHT, width=IMAGE_WIDTH),\n",
        "    #         A.Rotate(limit=35, p=1.0),\n",
        "    #         A.HorizontalFlip(p=0.5),\n",
        "    #         A.VerticalFlip(p=0.1),\n",
        "    #         A.Normalize(\n",
        "    #             mean=[0.0, 0.0, 0.0],\n",
        "    #             std=[1.0, 1.0, 1.0],\n",
        "    #             max_pixel_value=255.0,\n",
        "    #         ),\n",
        "    #         ToTensorV2(),\n",
        "    #     ],\n",
        "    # )\n",
        "\n",
        "    transforms = A.Compose(\n",
        "        [\n",
        "            A.Resize(height=IMAGE_HEIGHT, width=IMAGE_WIDTH),\n",
        "            A.Normalize(\n",
        "                mean=[0.0, 0.0, 0.0],\n",
        "                std=[1.0, 1.0, 1.0],\n",
        "                max_pixel_value=255.0,\n",
        "            ),\n",
        "            ToTensorV2(),\n",
        "        ],\n",
        "    )\n",
        "\n",
        "    model = UNET(in_channels=3, out_channels=1).to(DEVICE)\n",
        "    loss_fn = nn.BCEWithLogitsLoss()\n",
        "    optimizer = optim.Adam(model.parameters(), lr=LEARNING_RATE)\n",
        "\n",
        "    train_loader, val_loader = get_loaders(\n",
        "        TRAIN_IMG_DIR,\n",
        "        TRAIN_MASK_DIR,\n",
        "        # VAL_IMG_DIR,\n",
        "        # VAL_MASK_DIR,\n",
        "        BATCH_SIZE,\n",
        "        # train_transform,\n",
        "        transforms,\n",
        "        NUM_WORKERS,\n",
        "        PIN_MEMORY,\n",
        "    )\n",
        "\n",
        "    if LOAD_MODEL:\n",
        "        load_checkpoint(torch.load(\"my_checkpoint.pth.tar\"), model)\n",
        "\n",
        "    check_accuracy(val_loader, model, device=DEVICE)\n",
        "    scaler = torch.cuda.amp.GradScaler()\n",
        "\n",
        "    for epoch in range(NUM_EPOCHS):\n",
        "        train_fn(train_loader, model, optimizer, loss_fn, scaler)\n",
        "\n",
        "        # save model\n",
        "        checkpoint = {\n",
        "            \"state_dict\": model.state_dict(),\n",
        "            \"optimizer\":optimizer.state_dict(),\n",
        "        }\n",
        "        save_checkpoint(checkpoint)\n",
        "\n",
        "        # check accuracy\n",
        "        check_accuracy(val_loader, model, device=DEVICE)\n",
        "\n",
        "        # print some examples to a folder\n",
        "        save_predictions_as_imgs(\n",
        "            val_loader, model, folder=\"saved_images/\", device=DEVICE\n",
        "        )\n"
      ],
      "metadata": {
        "id": "CzZSqJZLh-FW"
      },
      "execution_count": null,
      "outputs": []
    },
    {
      "cell_type": "code",
      "source": [
        "main()"
      ],
      "metadata": {
        "colab": {
          "base_uri": "https://localhost:8080/"
        },
        "id": "TYawYBUy76hR",
        "outputId": "318d128b-8ed0-4198-fcf2-4ce1f480f894"
      },
      "execution_count": null,
      "outputs": [
        {
          "output_type": "stream",
          "name": "stdout",
          "text": [
            "Got 16081808/76185600 with acc 21.11\n",
            "Dice score: 0.34844300150871277\n"
          ]
        },
        {
          "output_type": "stream",
          "name": "stderr",
          "text": [
            "100%|██████████| 32/32 [00:15<00:00,  2.02it/s, loss=0.244]\n"
          ]
        },
        {
          "output_type": "stream",
          "name": "stdout",
          "text": [
            "=> Saving checkpoint\n",
            "Got 60104235/76185600 with acc 78.89\n",
            "Dice score: 5.427246287581511e-05\n"
          ]
        },
        {
          "output_type": "stream",
          "name": "stderr",
          "text": [
            "100%|██████████| 32/32 [00:17<00:00,  1.82it/s, loss=0.189]\n"
          ]
        },
        {
          "output_type": "stream",
          "name": "stdout",
          "text": [
            "=> Saving checkpoint\n",
            "Got 74784198/76185600 with acc 98.16\n",
            "Dice score: 0.9547173976898193\n"
          ]
        },
        {
          "output_type": "stream",
          "name": "stderr",
          "text": [
            "100%|██████████| 32/32 [00:16<00:00,  1.98it/s, loss=0.162]\n"
          ]
        },
        {
          "output_type": "stream",
          "name": "stdout",
          "text": [
            "=> Saving checkpoint\n",
            "Got 75405445/76185600 with acc 98.98\n",
            "Dice score: 0.9758124947547913\n"
          ]
        }
      ]
    },
    {
      "cell_type": "code",
      "source": [
        "###--------------Inference script------------###\n",
        "\n",
        "import torch\n",
        "import torch.nn.functional as F\n",
        "from torchvision import transforms\n",
        "from PIL import Image\n",
        "\n",
        "# Define your UNet model class\n",
        "# Load the trained model\n",
        "model = UNET(in_channels=3, out_channels=1).to(DEVICE)\n",
        "model.load_state_dict(torch.load('your_model_path')) #\n",
        "model.eval()\n",
        "\n",
        "# Define image preprocessing transformation\n",
        "transform = A.Compose(\n",
        "        [\n",
        "            A.Resize(height=IMAGE_HEIGHT, width=IMAGE_WIDTH),\n",
        "            A.Normalize(\n",
        "                mean=[0.0, 0.0, 0.0],\n",
        "                std=[1.0, 1.0, 1.0],\n",
        "                max_pixel_value=255.0,\n",
        "            ),\n",
        "            ToTensorV2(),\n",
        "        ],\n",
        "    )\n",
        "\n",
        "\n",
        "def perform_semantic_segmentation(model, image_path):\n",
        "    # Load and preprocess the input image\n",
        "    img = Image.open(image_path).convert(\"RGB\")\n",
        "    img = transform(img)\n",
        "    img = img.unsqueeze(0)  # Add batch dimension\n",
        "\n",
        "    # Make prediction\n",
        "    with torch.no_grad():\n",
        "        output = model(img)\n",
        "\n",
        "    # Apply softmax to get probability distribution\n",
        "    probabilities = F.softmax(output, dim=1)\n",
        "\n",
        "    # Get the predicted class (argmax along the channel dimension)\n",
        "    _, predicted_class = torch.max(probabilities, 1)\n",
        "\n",
        "    # Convert tensor to numpy array\n",
        "    predicted_class = predicted_class.squeeze().cpu().numpy()\n",
        "\n",
        "    return predicted_class\n",
        "\n",
        "# Example usage\n",
        "image_path = 'path/to/your/image.jpg'\n",
        "result = perform_semantic_segmentation(model, image_path)\n",
        "# 'result' now contains the predicted segmentation mask\n"
      ],
      "metadata": {
        "id": "q8APT0S_M8YP"
      },
      "execution_count": null,
      "outputs": []
    }
  ]
}